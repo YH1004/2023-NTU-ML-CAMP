{
  "nbformat": 4,
  "nbformat_minor": 0,
  "metadata": {
    "colab": {
      "provenance": [],
      "include_colab_link": true
    },
    "kernelspec": {
      "name": "python3",
      "display_name": "Python 3"
    },
    "language_info": {
      "name": "python"
    }
  },
  "cells": [
    {
      "cell_type": "markdown",
      "metadata": {
        "id": "view-in-github",
        "colab_type": "text"
      },
      "source": [
        "<a href=\"https://colab.research.google.com/github/MengChiehLiu/2023-NTU-ACCT-ML-camp/blob/main/codes_for_student/II_Python_Introduction_%26_Practice.ipynb\" target=\"_parent\"><img src=\"https://colab.research.google.com/assets/colab-badge.svg\" alt=\"Open In Colab\"/></a>"
      ]
    },
    {
      "cell_type": "markdown",
      "source": [
        "# II. Python Introduction & Practice\n",
        "\n",
        "The programming language is the language used by the programmer to communicate with the computer. It clearly tells the computer what to do in each step. The purpose of programming is to design a clear and complete instruction , and use the programming language to describe it to the computer.The computer will follow this instruction to help us complete the task.\n",
        "  \n",
        "When writing a program, we should also consider symbols, grammar, and semantic logic based on the language, just like a human language, and describe the program you design in the correct way.\n"
      ],
      "metadata": {
        "id": "ZU5IDAZIGI2K"
      }
    },
    {
      "cell_type": "markdown",
      "source": [
        "## 1. Environment setup and Hello World in python (Colab)\n",
        "\n",
        "\n",
        "-**Print**: Print out whatever after it."
      ],
      "metadata": {
        "id": "SEfe8lfMGqCU"
      }
    },
    {
      "cell_type": "code",
      "source": [
        "print(\"Hello World!\")"
      ],
      "metadata": {
        "colab": {
          "base_uri": "https://localhost:8080/"
        },
        "id": "Cey5uK-iGMDY",
        "outputId": "3fedda6f-a985-4a86-a5b5-8eaeff078000"
      },
      "execution_count": null,
      "outputs": [
        {
          "output_type": "stream",
          "name": "stdout",
          "text": [
            "Hello World!\n"
          ]
        }
      ]
    },
    {
      "cell_type": "code",
      "source": [
        "print(\"I want to learn Python!\")"
      ],
      "metadata": {
        "colab": {
          "base_uri": "https://localhost:8080/"
        },
        "id": "PDNymtmiTJj1",
        "outputId": "36814f67-abaa-444f-f7ab-521c646aef38"
      },
      "execution_count": null,
      "outputs": [
        {
          "output_type": "stream",
          "name": "stdout",
          "text": [
            "I want to learn Python!\n"
          ]
        }
      ]
    },
    {
      "cell_type": "code",
      "source": [
        "print(\"3.1415926\")"
      ],
      "metadata": {
        "colab": {
          "base_uri": "https://localhost:8080/"
        },
        "id": "DND05Sk7kGka",
        "outputId": "3b2becc2-490e-4af1-eb99-e88bcda299f4"
      },
      "execution_count": null,
      "outputs": [
        {
          "output_type": "stream",
          "name": "stdout",
          "text": [
            "3.1415926\n"
          ]
        }
      ]
    },
    {
      "cell_type": "markdown",
      "source": [
        "## 2. Variables and Basic data type\n",
        "\n",
        "-Variable: A variable is something like a container that stores a value. Before using it, we need to name it and assign it an initial value.\n",
        "\n",
        "\n",
        "-Assignment Operator:  \"=\".  The value on the right side of the equal sign is assigned to the variable on the left.  For example: Variable = 10\n",
        "\n",
        "-Data type\n",
        "\n",
        "*   int:integer. Ex:0, 1, -1\n",
        "*   float:fractional numbers. Ex:2.0, 4.3, 3.1415\n",
        "*   string:strings. Ex:\"0\", \"4.3\", \"I love Python\"\n",
        "\n",
        "\n",
        "\n",
        "\n",
        "-**Type**: show the data type of a variable.\n"
      ],
      "metadata": {
        "id": "qzUSlTGSUK7c"
      }
    },
    {
      "cell_type": "code",
      "source": [
        "a = 123456\n",
        "b = 4.32\n",
        "c = \"Good morning\"\n",
        "print(a)\n",
        "print(c)\n",
        "print(b)\n",
        "print(type(a))\n",
        "print(type(c))\n",
        "print(type(b))"
      ],
      "metadata": {
        "colab": {
          "base_uri": "https://localhost:8080/"
        },
        "id": "aJN4ikPtXWb6",
        "outputId": "532dcf35-a3b7-4c2b-c141-3e2e2aff8f42"
      },
      "execution_count": null,
      "outputs": [
        {
          "output_type": "stream",
          "name": "stdout",
          "text": [
            "123456\n",
            "Good morning\n",
            "4.32\n",
            "<class 'int'>\n",
            "<class 'str'>\n",
            "<class 'float'>\n"
          ]
        }
      ]
    },
    {
      "cell_type": "markdown",
      "source": [
        "## 3.Basic statistics\n",
        "\n",
        "### 3.1 Arithmetic Operator\n",
        "\n",
        "\"+\" plus\n",
        "\n",
        "\"-\" minus\n",
        "\n",
        "\"*\" multiply\n",
        "\n",
        "\"/\" divide\n",
        "\n",
        "\"**\" power\n",
        "\n",
        "\"//\" quotient\n",
        "\n",
        "\"%\" remainder\n",
        "\n",
        "-**input**: it can put any value you want\n",
        "\n",
        "-**Notice:only the same data type could be calculated**"
      ],
      "metadata": {
        "id": "ZwM3g3XCd011"
      }
    },
    {
      "cell_type": "code",
      "source": [
        "num1 = 10\n",
        "num2 = 3\n",
        "print(num1 + num2)\n",
        "print(num1 - num2)\n",
        "print(num1 * num2)\n",
        "print(num1 / num2)\n",
        "print(num1 ** num2)\n",
        "print(num1 // num2)\n",
        "print(num1 % num2)"
      ],
      "metadata": {
        "colab": {
          "base_uri": "https://localhost:8080/"
        },
        "id": "CrGOZWpvgAWK",
        "outputId": "ce3c39a5-7e86-4bd9-9a6a-f6ff7bf60273"
      },
      "execution_count": null,
      "outputs": [
        {
          "output_type": "stream",
          "name": "stdout",
          "text": [
            "13\n",
            "7\n",
            "30\n",
            "3.3333333333333335\n",
            "1000\n",
            "3\n",
            "1\n"
          ]
        }
      ]
    },
    {
      "cell_type": "code",
      "source": [
        "num3 = input()\n",
        "num4 = input()\n",
        "print(num3 + num4)\n",
        "print(num3 - num4)\n",
        "print(num3 * num4)\n",
        "print(num3 / num4)\n",
        "print(num3 ** num4)\n",
        "print(num3 // num4)\n",
        "print(num3 % num4)"
      ],
      "metadata": {
        "colab": {
          "base_uri": "https://localhost:8080/",
          "height": 288
        },
        "id": "5PkCtfQIifrS",
        "outputId": "0b05c7d0-c597-44aa-e61a-460ac55e5e28"
      },
      "execution_count": null,
      "outputs": [
        {
          "output_type": "stream",
          "name": "stdout",
          "text": [
            "10\n",
            "20\n",
            "1020\n"
          ]
        },
        {
          "output_type": "error",
          "ename": "TypeError",
          "evalue": "ignored",
          "traceback": [
            "\u001b[0;31m---------------------------------------------------------------------------\u001b[0m",
            "\u001b[0;31mTypeError\u001b[0m                                 Traceback (most recent call last)",
            "\u001b[0;32m<ipython-input-3-2bc3ec1e3dde>\u001b[0m in \u001b[0;36m<module>\u001b[0;34m\u001b[0m\n\u001b[1;32m      2\u001b[0m \u001b[0mnum4\u001b[0m \u001b[0;34m=\u001b[0m \u001b[0minput\u001b[0m\u001b[0;34m(\u001b[0m\u001b[0;34m)\u001b[0m\u001b[0;34m\u001b[0m\u001b[0;34m\u001b[0m\u001b[0m\n\u001b[1;32m      3\u001b[0m \u001b[0mprint\u001b[0m\u001b[0;34m(\u001b[0m\u001b[0mnum3\u001b[0m \u001b[0;34m+\u001b[0m \u001b[0mnum4\u001b[0m\u001b[0;34m)\u001b[0m\u001b[0;34m\u001b[0m\u001b[0;34m\u001b[0m\u001b[0m\n\u001b[0;32m----> 4\u001b[0;31m \u001b[0mprint\u001b[0m\u001b[0;34m(\u001b[0m\u001b[0mnum3\u001b[0m \u001b[0;34m-\u001b[0m \u001b[0mnum4\u001b[0m\u001b[0;34m)\u001b[0m\u001b[0;34m\u001b[0m\u001b[0;34m\u001b[0m\u001b[0m\n\u001b[0m\u001b[1;32m      5\u001b[0m \u001b[0mprint\u001b[0m\u001b[0;34m(\u001b[0m\u001b[0mnum3\u001b[0m \u001b[0;34m*\u001b[0m \u001b[0mnum4\u001b[0m\u001b[0;34m)\u001b[0m\u001b[0;34m\u001b[0m\u001b[0;34m\u001b[0m\u001b[0m\n\u001b[1;32m      6\u001b[0m \u001b[0mprint\u001b[0m\u001b[0;34m(\u001b[0m\u001b[0mnum3\u001b[0m \u001b[0;34m/\u001b[0m \u001b[0mnum4\u001b[0m\u001b[0;34m)\u001b[0m\u001b[0;34m\u001b[0m\u001b[0;34m\u001b[0m\u001b[0m\n",
            "\u001b[0;31mTypeError\u001b[0m: unsupported operand type(s) for -: 'str' and 'str'"
          ]
        }
      ]
    },
    {
      "cell_type": "markdown",
      "source": [
        "ERROR!!! WHY???\n",
        "\n",
        "**Because the string couldn’t be calculated!!!**\n",
        "\n",
        "-Type conversion is called **casting**."
      ],
      "metadata": {
        "id": "pruK-UiLi4Q7"
      }
    },
    {
      "cell_type": "code",
      "source": [
        "num1 = 10\n",
        "print(float(num1))\n",
        "print(str(num1))\n",
        "print(type(float(num1)))\n",
        "print(type(str(num1)))"
      ],
      "metadata": {
        "colab": {
          "base_uri": "https://localhost:8080/"
        },
        "id": "PwNK1NVPjvem",
        "outputId": "55bd583f-9eba-44ba-e46d-3daf42ad34d1"
      },
      "execution_count": null,
      "outputs": [
        {
          "output_type": "stream",
          "name": "stdout",
          "text": [
            "10.0\n",
            "10\n",
            "<class 'float'>\n",
            "<class 'str'>\n"
          ]
        }
      ]
    },
    {
      "cell_type": "code",
      "source": [
        "num3 = int(input())\n",
        "num4 = int(input())\n",
        "print(num3 + num4)\n",
        "print(num3 - num4)\n",
        "print(num3 * num4)\n",
        "print(num3 / num4)\n",
        "print(num3 ** num4)\n",
        "print(num3 // num4)\n",
        "print(num3 % num4)"
      ],
      "metadata": {
        "colab": {
          "base_uri": "https://localhost:8080/"
        },
        "id": "dh_c-wp5i_Bn",
        "outputId": "1b119230-e029-487c-dd11-ecf3198e7887"
      },
      "execution_count": null,
      "outputs": [
        {
          "output_type": "stream",
          "name": "stdout",
          "text": [
            "10\n",
            "20\n",
            "30\n",
            "-10\n",
            "200\n",
            "0.5\n",
            "100000000000000000000\n",
            "0\n",
            "10\n"
          ]
        }
      ]
    },
    {
      "cell_type": "markdown",
      "source": [
        "The process of finding the problems is called debugging."
      ],
      "metadata": {
        "id": "k4lXNWPtmAgM"
      }
    },
    {
      "cell_type": "markdown",
      "source": [
        "Besides, we can type some hints in the input."
      ],
      "metadata": {
        "id": "3guARlq4jNL6"
      }
    },
    {
      "cell_type": "code",
      "source": [
        "num3 = int(input(\"The first number is \"))\n",
        "num4 = int(input(\"The second number is \"))\n",
        "print(num3 + num4)\n",
        "print(num3 - num4)\n",
        "print(num3 * num4)\n",
        "print(num3 / num4)\n",
        "print(num3 ** num4)\n",
        "print(num3 // num4)\n",
        "print(num3 % num4)"
      ],
      "metadata": {
        "colab": {
          "base_uri": "https://localhost:8080/"
        },
        "id": "TDj6wOR0iCTM",
        "outputId": "abb2bff2-eec9-4eda-fc5b-1e7eab905ad8"
      },
      "execution_count": null,
      "outputs": [
        {
          "output_type": "stream",
          "name": "stdout",
          "text": [
            "The first number is 10\n",
            "The second number is 20\n",
            "30\n",
            "-10\n",
            "200\n",
            "0.5\n",
            "100000000000000000000\n",
            "0\n",
            "10\n"
          ]
        }
      ]
    },
    {
      "cell_type": "markdown",
      "source": [
        "### 3.2 Self assignment"
      ],
      "metadata": {
        "id": "6ZxEFtHPT7ls"
      }
    },
    {
      "cell_type": "code",
      "source": [
        "# Previous\n",
        "num1 = 10\n",
        "num1 = num1 + 2\n",
        "print(num1)\n",
        "\n",
        "\n",
        "# Self assignment\n",
        "num1 = 10\n",
        "num1 += 2\n",
        "print(num1)"
      ],
      "metadata": {
        "colab": {
          "base_uri": "https://localhost:8080/"
        },
        "id": "0UNCXTWwUyxD",
        "outputId": "2b82e249-a735-4a38-da12-2ebb0949db29"
      },
      "execution_count": null,
      "outputs": [
        {
          "output_type": "stream",
          "name": "stdout",
          "text": [
            "12\n",
            "12\n"
          ]
        }
      ]
    },
    {
      "cell_type": "code",
      "source": [
        "# Previous\n",
        "num2 = 8\n",
        "num2 = num2 * 3\n",
        "print(num2)\n",
        "\n",
        "\n",
        "# Self assignment\n",
        "num2 = 8\n",
        "num2 *= 3\n",
        "print(num2)"
      ],
      "metadata": {
        "colab": {
          "base_uri": "https://localhost:8080/"
        },
        "id": "sok6IhJ5U5Dy",
        "outputId": "1091b4a5-c354-474a-a881-01a50ea6113b"
      },
      "execution_count": null,
      "outputs": [
        {
          "output_type": "stream",
          "name": "stdout",
          "text": [
            "24\n",
            "24\n"
          ]
        }
      ]
    },
    {
      "cell_type": "markdown",
      "source": [
        "### 3.3 Comparison Operator\n",
        "\n",
        "Before introducing the Comparison Operator....\n",
        "\n",
        "\n",
        "Now, we have introduced three data types: integer, float, and string. \n",
        "\n",
        "Another common data type is called **Boolean**.   \n",
        "\n",
        "*   Only two possible values: true and false.\n",
        "\n",
        "*   Used to determine true or false logical concepts.\n"
      ],
      "metadata": {
        "id": "PMT8eIbZTIhS"
      }
    },
    {
      "cell_type": "code",
      "source": [
        "a = bool(0)   # False = 0\n",
        "print(a)\n",
        "\n",
        "a = bool(10)  # True = other numbers\n",
        "print(a)\n",
        "\n",
        "a = bool(-5)  # True = other numbers\n",
        "print(a)"
      ],
      "metadata": {
        "colab": {
          "base_uri": "https://localhost:8080/"
        },
        "id": "o-F7MMiWnx5R",
        "outputId": "b2ebd311-2140-4f29-c929-b48e8eaf7c6c"
      },
      "execution_count": null,
      "outputs": [
        {
          "output_type": "stream",
          "name": "stdout",
          "text": [
            "False\n",
            "True\n",
            "True\n",
            "False\n"
          ]
        }
      ]
    },
    {
      "cell_type": "markdown",
      "source": [
        "-Comparison Operator\n",
        "\n",
        "\"==\" equal\n",
        "\n",
        "\"!=\" unequal\n",
        "\n",
        "\">\" bigger\n",
        "\n",
        "\"<\" smaller\n",
        "\n",
        "\">=\" no less than\n",
        "\n",
        "\"<=\" no more than\n"
      ],
      "metadata": {
        "id": "jqHoOXHincSi"
      }
    },
    {
      "cell_type": "code",
      "source": [
        "print(3 == 2)\n",
        "print(3 != 2)\n",
        "print(3 > 2)\n",
        "print(3 < 2)\n",
        "print(3 >= 2)\n",
        "print(3 <= 2)"
      ],
      "metadata": {
        "colab": {
          "base_uri": "https://localhost:8080/"
        },
        "id": "hPECh0JkY7_L",
        "outputId": "a19a7075-f563-4f2d-a491-51430c047335"
      },
      "execution_count": null,
      "outputs": [
        {
          "output_type": "stream",
          "name": "stdout",
          "text": [
            "False\n",
            "True\n",
            "True\n",
            "False\n",
            "True\n",
            "False\n"
          ]
        }
      ]
    },
    {
      "cell_type": "markdown",
      "source": [
        "**=  vs. ==**\n",
        "\n",
        "\"=\" assign(a becomes b). For example, a = b. It  means that we assign the value of b to the  a.\n",
        "\n",
        "\"==\" equal(a equals b). For example, a == b. It  means that the value of b equals the value of a.\n"
      ],
      "metadata": {
        "id": "78TgqUUSa7TT"
      }
    },
    {
      "cell_type": "code",
      "source": [
        "a = 2\n",
        "b = 5\n",
        "print(a == b) "
      ],
      "metadata": {
        "colab": {
          "base_uri": "https://localhost:8080/"
        },
        "id": "Vd7v-vNMbO3O",
        "outputId": "bd4ec9bb-df78-4c0a-ecc9-4a94ca364bd3"
      },
      "execution_count": null,
      "outputs": [
        {
          "output_type": "stream",
          "name": "stdout",
          "text": [
            "False\n"
          ]
        }
      ]
    },
    {
      "cell_type": "markdown",
      "source": [
        "**Example 1**\n",
        "\n",
        "Please let user enter weight and height and calculate their BMI\n",
        "\n",
        "BMI = weight(unit:KG) / height^2 (unit:CM)"
      ],
      "metadata": {
        "id": "l5d4vrz51Bxz"
      }
    },
    {
      "cell_type": "code",
      "source": [
        "height = float(input())\n",
        "weight = float(input())\n",
        "\n",
        "bmi = weight / ((height / 100) ** 2)\n",
        "print(bmi)\n"
      ],
      "metadata": {
        "colab": {
          "base_uri": "https://localhost:8080/"
        },
        "id": "U_THZjCv1SkW",
        "outputId": "9727ffb2-d283-47bc-8602-548400efd493"
      },
      "execution_count": null,
      "outputs": [
        {
          "output_type": "stream",
          "name": "stdout",
          "text": [
            "173\n",
            "54.7\n",
            "18.276587924755255\n"
          ]
        }
      ]
    },
    {
      "cell_type": "markdown",
      "source": [
        "**Example 2**\n",
        "\n",
        "The final score of the Accounting course is determined by midterm exam(35%), final exam(45%), and final report(20%).\n",
        "\n",
        "Jack: midterm exam:70, final exam:85, final report:83\n",
        "\n",
        "Amy: midterm exam:50, final exam:95, final report:92\n",
        "\n",
        "Please calculate Jack's and Amy's final score and check if the statement that Jack has a higher final score than Amy is true or false.\n"
      ],
      "metadata": {
        "id": "89DwhwrTerSn"
      }
    },
    {
      "cell_type": "code",
      "source": [
        "mid_exam1 = int(input())\n",
        "final_exam1 = int(input())\n",
        "final_report1 = int(input())\n",
        "final_score1 = mid_exam1 * 0.35 + final_exam1 * 0.45 + final_report1 * 0.2\n",
        "\n",
        "mid_exam2 = int(input())\n",
        "final_exam2 = int(input())\n",
        "final_report2 = int(input())\n",
        "final_score2 = mid_exam2 * 0.35 + final_exam2 * 0.45 + final_report2 * 0.2\n",
        "\n",
        "print(final_score1)\n",
        "print(final_score2)\n",
        "print(final_score1 > final_score2)\n"
      ],
      "metadata": {
        "colab": {
          "base_uri": "https://localhost:8080/"
        },
        "id": "uYu6RJHJhRWq",
        "outputId": "d638ef4b-0255-46b8-eae5-dd24461dc83b"
      },
      "execution_count": null,
      "outputs": [
        {
          "output_type": "stream",
          "name": "stdout",
          "text": [
            "79.35\n",
            "78.65\n",
            "True\n"
          ]
        }
      ]
    },
    {
      "cell_type": "code",
      "source": [
        "# a better way\n",
        "# if we change the percentage, we can change the number below just one time and decrease the probability of making any mistakes\n",
        "mid_percent = 0.35\n",
        "final_exam_percent = 0.45\n",
        "final_report_percent = 0.2\n",
        "\n",
        "mid_exam1 = int(input())\n",
        "final_exam1 = int(input())\n",
        "final_report1 = int(input())\n",
        "final_score1 = mid_exam1 * mid_percent + final_exam1 * final_exam_percent + final_report1 * final_report_percent\n",
        "\n",
        "mid_exam2 = int(input())\n",
        "final_exam2 = int(input())\n",
        "final_report2 = int(input())\n",
        "final_score2 = mid_exam2 * mid_percent + final_exam2 * final_exam_percent + final_report2 * final_report_percent\n",
        "\n",
        "print(final_score1)\n",
        "print(final_score2)\n",
        "print(final_score1 > final_score2)"
      ],
      "metadata": {
        "colab": {
          "base_uri": "https://localhost:8080/"
        },
        "id": "zkuQ5OhiiRR1",
        "outputId": "288e0c30-f7ff-4911-f18b-1dcf94896b84"
      },
      "execution_count": null,
      "outputs": [
        {
          "output_type": "stream",
          "name": "stdout",
          "text": [
            "79.35\n",
            "78.65\n",
            "True\n"
          ]
        }
      ]
    },
    {
      "cell_type": "markdown",
      "source": [
        "**Practice1**\n",
        "\n",
        "Sheldon is in the supermarket. \n",
        "\n",
        "Apple is $20 per unit. \n",
        "\n",
        "Orange is $15 per unit. \n",
        "\n",
        "Lemon is $10 per unit. \n",
        "\n",
        "There is a 20% discount for apples and 10% discount for oranges. Sheldon buys 10 apples, 10 oranges, 15 lemons. How much should Sheldon pay?"
      ],
      "metadata": {
        "id": "vgVRsjInks4_"
      }
    },
    {
      "cell_type": "code",
      "source": [
        "apple_price = int(input())\n",
        "orange_price = int(input())\n",
        "lemon_price = int(input())\n",
        "apple_discount = 0.8\n",
        "orange_discount = 0.9\n",
        "\n",
        "sum =  10 * apple_price * apple_discount + 10 * orange_price * orange_discount +  15 * lemon_price\n",
        "print(sum)"
      ],
      "metadata": {
        "colab": {
          "base_uri": "https://localhost:8080/"
        },
        "id": "yVzObfmbl6H5",
        "outputId": "e505472f-cbd6-4945-a709-6948284623b9"
      },
      "execution_count": null,
      "outputs": [
        {
          "output_type": "stream",
          "name": "stdout",
          "text": [
            "20\n",
            "15\n",
            "10\n",
            "445.0\n"
          ]
        }
      ]
    },
    {
      "cell_type": "markdown",
      "source": [
        "## 4.Conditionals(If else)\n",
        "\n",
        "### 4.1 if-else statement\n",
        "\n",
        "if condition:\n",
        "\n",
        "> statements 1\n",
        "\n",
        "elif condition2:\n",
        "\n",
        "\n",
        "> statements 2\n",
        "\n",
        "else:\n",
        "\n",
        "\n",
        "> statements 3"
      ],
      "metadata": {
        "id": "t_WTJMJfcm_F"
      }
    },
    {
      "cell_type": "code",
      "source": [
        "a = int(input())\n",
        "\n",
        "if a < 100:\n",
        "  print(\"a < 100\")\n",
        "else:\n",
        "  print(\"a >= 100\")"
      ],
      "metadata": {
        "colab": {
          "base_uri": "https://localhost:8080/"
        },
        "id": "0n0okzxWSwc3",
        "outputId": "ea8cd521-a253-4733-fe75-37a45586ddee"
      },
      "execution_count": null,
      "outputs": [
        {
          "output_type": "stream",
          "name": "stdout",
          "text": [
            "500\n",
            "a >= 100\n"
          ]
        }
      ]
    },
    {
      "cell_type": "code",
      "source": [
        "a = int(input())\n",
        "\n",
        "if a > 0:\n",
        "  print(\"a > 0\")\n",
        "elif a == 0:\n",
        "  print(\"a = 0\")\n",
        "else:\n",
        "  print(\"a < 0\")"
      ],
      "metadata": {
        "colab": {
          "base_uri": "https://localhost:8080/"
        },
        "id": "oSG_uSQGUKUl",
        "outputId": "9aeb6221-29fe-49f0-d836-d16c3cc0f042"
      },
      "execution_count": null,
      "outputs": [
        {
          "output_type": "stream",
          "name": "stdout",
          "text": [
            "10\n",
            "a > 0\n"
          ]
        }
      ]
    },
    {
      "cell_type": "markdown",
      "source": [
        "### 4.2 Logical operators\n",
        "\n",
        "Sometimes, the condition is complex.\n",
        "\n",
        "If I am rich **and** have lots of time, I will buy myself a mansion.\n",
        "\n",
        "If I am rich **or** have lots of time, I will buy myself a mansion.\n",
        "\n",
        "If I am **not** poor, I will buy myself a mansion.\n"
      ],
      "metadata": {
        "id": "U_BOWe4fsX8D"
      }
    },
    {
      "cell_type": "code",
      "source": [
        "a = int(input())\n",
        "b = int(input())\n",
        "\n",
        "if a < 100 and b < 100:\n",
        "  print(\"a and b are all below 100\")\n",
        "else:\n",
        "  print(\"a and b are not all below 100\")"
      ],
      "metadata": {
        "colab": {
          "base_uri": "https://localhost:8080/"
        },
        "id": "lCTHevKMS_Xc",
        "outputId": "3cf07484-1f67-42bd-f83a-ef986bc771c1"
      },
      "execution_count": null,
      "outputs": [
        {
          "output_type": "stream",
          "name": "stdout",
          "text": [
            "50\n",
            "150\n",
            "a and b are not all below 100\n"
          ]
        }
      ]
    },
    {
      "cell_type": "code",
      "source": [
        "a = int(input())\n",
        "b = int(input())\n",
        "\n",
        "if a < 100 or b < 100:\n",
        "  print(\"a or b are below 100\")\n",
        "else:\n",
        "  print(\"a and b are not lower than 100\")"
      ],
      "metadata": {
        "colab": {
          "base_uri": "https://localhost:8080/"
        },
        "id": "XnNFkIAkuNnp",
        "outputId": "0d38d2f3-24f4-447c-d74a-a9e5c319ff9c"
      },
      "execution_count": null,
      "outputs": [
        {
          "output_type": "stream",
          "name": "stdout",
          "text": [
            "20\n",
            "222\n",
            "a or b are below 100\n"
          ]
        }
      ]
    },
    {
      "cell_type": "code",
      "source": [
        "a = int(input())\n",
        "\n",
        "if not a == 100:\n",
        "  print(\"a is not 100\")\n",
        "else:\n",
        "  print(\"a is 100\")"
      ],
      "metadata": {
        "colab": {
          "base_uri": "https://localhost:8080/"
        },
        "id": "F6_8GZWEus62",
        "outputId": "f9eab53f-58f0-475a-a35b-b38d63f8f3c1"
      },
      "execution_count": null,
      "outputs": [
        {
          "output_type": "stream",
          "name": "stdout",
          "text": [
            "20\n",
            "a is not 100\n"
          ]
        }
      ]
    },
    {
      "cell_type": "markdown",
      "source": [
        "**Example 1**\n",
        "\n",
        "Barney is a clerk. He can get a reward of $1 for selling one unit of goods. \n",
        "\n",
        "If you accumulate 15 units in a single day, starting from the 16th unit, you can get a reward of $1.5 for each unit.\n",
        "\n",
        "Please let the user enter the number of orders and calculate how much money the clerk can earn."
      ],
      "metadata": {
        "id": "_UbVMK-1QMdT"
      }
    },
    {
      "cell_type": "code",
      "source": [
        "order = int(input())\n",
        "\n",
        "if order >= 16:\n",
        "  sum = 15 * 1 + (order - 15) * 1.5\n",
        "else:\n",
        "  sum = order * 1\n",
        "\n",
        "print(sum)"
      ],
      "metadata": {
        "colab": {
          "base_uri": "https://localhost:8080/"
        },
        "id": "uYGS75qhRNlN",
        "outputId": "1b695382-82d3-4eaa-dd80-047e8088ca74"
      },
      "execution_count": null,
      "outputs": [
        {
          "output_type": "stream",
          "name": "stdout",
          "text": [
            "20\n",
            "22.5\n"
          ]
        }
      ]
    },
    {
      "cell_type": "markdown",
      "source": [
        "**Example 2**\n",
        "\n",
        "Grade Point Average(GPA) and score switch table are listed below:\n",
        "\n",
        "A+:90-100\n",
        "\n",
        "A:85-89\n",
        "\n",
        "A-:80-84\n",
        "\n",
        "B+:77-79\n",
        "\n",
        "B:73-76\n",
        "\n",
        "B-:70-72\n",
        "\n",
        "C+:67-69\n",
        "\n",
        "C:63-66\n",
        "\n",
        "C-:60-62\n",
        "\n",
        "F:below60\n",
        "\n",
        "The final score of Accounting is determined by midterm exam(35%), final exam(45%), and final report(20%).\n",
        "\n",
        "Jack: midterm exam:70, final exam:85, final report:83\n",
        "\n",
        "\n",
        "What is Jack's GPA?"
      ],
      "metadata": {
        "id": "bzXvIDa0Q_lv"
      }
    },
    {
      "cell_type": "code",
      "source": [
        "mid_percent = 0.35\n",
        "final_exam_percent = 0.45\n",
        "final_report_percent = 0.2\n",
        "\n",
        "mid_exam1 = int(input())\n",
        "final_exam1 = int(input())\n",
        "final_report1 = int(input())\n",
        "final_score1 = mid_exam1 * mid_percent + final_exam1 * final_exam_percent + final_report1 * final_report_percent\n",
        "\n",
        "if final_score1 >= 90:\n",
        "  print(\"A+\")\n",
        "elif final_score1 >= 85:\n",
        "  print(\"A\")\n",
        "elif final_score1 >= 80:\n",
        "  print(\"A-\")\n",
        "elif final_score1 >= 77:\n",
        "  print(\"B+\")\n",
        "elif final_score1 >= 73:\n",
        "  print(\"B\")\n",
        "elif final_score1 >= 70:\n",
        "  print(\"B-\")\n",
        "elif final_score1 >= 67:\n",
        "  print(\"C+\")\n",
        "elif final_score1 >= 63:\n",
        "  print(\"C\")\n",
        "elif final_score1 >= 60:\n",
        "  print(\"C-\")\n",
        "else:\n",
        "  print(\"F\")\n"
      ],
      "metadata": {
        "colab": {
          "base_uri": "https://localhost:8080/"
        },
        "id": "-2Ul3ad_kIGU",
        "outputId": "a49f7230-a09c-42a6-8ded-a10d4da82e55"
      },
      "execution_count": null,
      "outputs": [
        {
          "output_type": "stream",
          "name": "stdout",
          "text": [
            "82\n",
            "82\n",
            "82\n",
            "A-\n"
          ]
        }
      ]
    },
    {
      "cell_type": "markdown",
      "source": [
        "**Practice 1**\n",
        "\n",
        "In a national park, if your age is 65 or above, you can buy the concession ticket.\n",
        "\n",
        "The regular ticket is $250.  \n",
        "\n",
        "The concession ticket is $150. \n",
        "\n",
        "Ted(?-years-old) went to this national park. How much should they pay? "
      ],
      "metadata": {
        "id": "-gPls80cYDI3"
      }
    },
    {
      "cell_type": "code",
      "source": [
        "age = int(input())\n",
        "regular_ticket = 250\n",
        "concession_ticket = 150\n",
        "\n",
        "if age >= 65:\n",
        "  print(\"$\", regular_ticket) # there will be a blank between \"$\" and price.\n",
        "else:\n",
        "  print(\"$\" + str(concession_ticket))\n",
        "  "
      ],
      "metadata": {
        "colab": {
          "base_uri": "https://localhost:8080/"
        },
        "id": "o1mSQE34FbMe",
        "outputId": "0e30b661-7b52-46bb-d820-ebedb07afd7b"
      },
      "execution_count": null,
      "outputs": [
        {
          "output_type": "stream",
          "name": "stdout",
          "text": [
            "70\n",
            "$ 250\n"
          ]
        }
      ]
    },
    {
      "cell_type": "markdown",
      "source": [
        "Following the previous question. Now, if your age is 65 or above, you can buy the concession ticket or if your age is 12 or below, you can buy the child ticket.\n",
        "\n",
        "The regular ticket is $250.\n",
        "\n",
        "The concession ticket is $150.\n",
        "\n",
        "The child ticket is $100\n",
        "\n",
        "Ted(?-years-old) went to this national park. How much should they pay?"
      ],
      "metadata": {
        "id": "3Jm8XhCtHHGp"
      }
    },
    {
      "cell_type": "code",
      "source": [
        "age = int(input())\n",
        "regular_ticket = 250\n",
        "concession_ticket = 150\n",
        "child_ticket = 100\n",
        "\n",
        "if age >= 65:\n",
        "  print(\"$\" + str(regular_ticket)) # there will be a blank between \"$\" and price.\n",
        "elif age < 65 and age > 12:\n",
        "  print(\"$\" + str(concession_ticket))\n",
        "else:\n",
        "  print(\"$\" + str(child_ticket))"
      ],
      "metadata": {
        "colab": {
          "base_uri": "https://localhost:8080/"
        },
        "id": "EekBdPsRH1YC",
        "outputId": "ea5a22cb-96eb-4319-c73c-f47750bfd243"
      },
      "execution_count": null,
      "outputs": [
        {
          "output_type": "stream",
          "name": "stdout",
          "text": [
            "10\n",
            "$100\n"
          ]
        }
      ]
    },
    {
      "cell_type": "markdown",
      "source": [
        "![E7on6knVUAYSjM2.jpg](data:image/jpeg;base64,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)"
      ],
      "metadata": {
        "id": "Clj4D7YkLwmN"
      }
    },
    {
      "cell_type": "markdown",
      "source": [
        "### 4.3 Nested if-else statement\n",
        "\n",
        "In the example below, \n",
        "\n",
        "If condition1 and condition 2 are true, \n",
        "statements A will be executed. \n",
        "\n",
        "If condition 1 is true but condition 2 is \n",
        "false, statements B will be executed. \n",
        "\n",
        "If condition 1 is false but condition 3 is true, statements C will \n",
        "be executed.\n",
        "\n",
        "If condition1 and condition 3 are false, \n",
        "statements D will be executed.  "
      ],
      "metadata": {
        "id": "CV41Zm9vUgoX"
      }
    },
    {
      "cell_type": "code",
      "source": [
        "if condition 1:\n",
        "  if condition 2:\n",
        "    statements A\n",
        "  else:\n",
        "    statements B\n",
        "else:\n",
        "  if condition 3:\n",
        "    statements C\n",
        "  else:\n",
        "    statements D\n"
      ],
      "metadata": {
        "id": "OLLrI-Qhwwpt"
      },
      "execution_count": null,
      "outputs": []
    },
    {
      "cell_type": "code",
      "source": [
        "a = int(input())\n",
        "b = int(input())\n",
        "\n",
        "if a == 0:\n",
        "  if b == 0:\n",
        "    print(\"a and b are both 0\")\n",
        "  else:\n",
        "    print(\"b is not 0\")\n",
        "else:\n",
        "  print(\"a is not 0\")\n"
      ],
      "metadata": {
        "colab": {
          "base_uri": "https://localhost:8080/"
        },
        "id": "6eXe-GKbU_nJ",
        "outputId": "e2721aab-820d-412e-adf8-0cb2c3cede4e"
      },
      "execution_count": null,
      "outputs": [
        {
          "output_type": "stream",
          "name": "stdout",
          "text": [
            "0\n",
            "10\n",
            "b is not 0\n"
          ]
        }
      ]
    },
    {
      "cell_type": "code",
      "source": [
        "a = int(input())\n",
        "b = int(input())\n",
        "c = int(input())\n",
        "\n",
        "if a >= b:\n",
        "  if a >= c:\n",
        "    print(a, \"is the largest\")\n",
        "  else:\n",
        "    print(c, \"is the largest\")\n",
        "\n",
        "else:\n",
        "  if b >= c:\n",
        "    print(b, \"is the largest\")\n",
        "  else:\n",
        "    print(c, \"is the largest\")\n"
      ],
      "metadata": {
        "colab": {
          "base_uri": "https://localhost:8080/"
        },
        "id": "wYvsJhx6Ju30",
        "outputId": "cf25a0c0-a81c-484c-83cd-3219438cc6e3"
      },
      "execution_count": null,
      "outputs": [
        {
          "output_type": "stream",
          "name": "stdout",
          "text": [
            "10\n",
            "25\n",
            "30\n",
            "30 is the largest\n"
          ]
        }
      ]
    },
    {
      "cell_type": "code",
      "source": [
        "# alternatives\n",
        "a = int(input())\n",
        "b = int(input())\n",
        "c = int(input())\n",
        "\n",
        "max = c\n",
        "if a >= b:\n",
        "  if a >= c: \n",
        "    max = a\n",
        "else:\n",
        "  if b >= c:\n",
        "    max = b\n",
        "\n",
        "print(max, \"is the largest\")\n"
      ],
      "metadata": {
        "colab": {
          "base_uri": "https://localhost:8080/"
        },
        "id": "hBIEgANzJ89B",
        "outputId": "0080e4f1-9eb0-48e7-8c95-16f3df2e0c15"
      },
      "execution_count": null,
      "outputs": [
        {
          "output_type": "stream",
          "name": "stdout",
          "text": [
            "15\n",
            "20\n",
            "5\n",
            "20 is the largest\n"
          ]
        }
      ]
    },
    {
      "cell_type": "markdown",
      "source": [
        "**Practice 2**\n",
        "\n",
        "A person who is 20 or above and she/he is not under declaration of guardian has the right to vote.\n",
        "\n",
        "Please let a user enter her/his age and whether she/ he is under declaration of guardian and then determine whether she/he is eligible to vote. "
      ],
      "metadata": {
        "id": "BdurFuZOnfWg"
      }
    },
    {
      "cell_type": "code",
      "source": [
        "age = int(input())\n",
        "guardian = int(input())\n",
        "\n",
        "if age >= 20: \n",
        "  if guardian == 0:  # without under declaration of guardian\n",
        "    print(\"Yes\")\n",
        "  else:         # under declaration of guardian\n",
        "    print(\"No\")\n",
        "\n",
        "else:          # age < 20\n",
        "  print(\"No\")"
      ],
      "metadata": {
        "colab": {
          "base_uri": "https://localhost:8080/"
        },
        "id": "F8DJoQHsneiR",
        "outputId": "75b7fd47-9ff1-46eb-eaf8-8d2601d0e834"
      },
      "execution_count": null,
      "outputs": [
        {
          "output_type": "stream",
          "name": "stdout",
          "text": [
            "60\n",
            "0\n",
            "Yes\n"
          ]
        }
      ]
    },
    {
      "cell_type": "markdown",
      "source": [
        "## 5. Iterations\n",
        "\n",
        "### 5.1 While\n",
        "\n",
        "Sometimes, we want to repeatedly execute a block of codes.\n",
        "\n",
        "We can write lots of if-else, but it will take lots of time.\n",
        "\n",
        "Therefore, we need iterations. **While** is one way of the iterations.\n",
        "\n",
        "When the condition is met, the **while** loop will continuously execute."
      ],
      "metadata": {
        "id": "h9DETW-ipsFz"
      }
    },
    {
      "cell_type": "code",
      "source": [
        "While conditiona1:\n",
        "\n",
        "  statement"
      ],
      "metadata": {
        "id": "gkI-Bn7p0qiE"
      },
      "execution_count": null,
      "outputs": []
    },
    {
      "cell_type": "code",
      "source": [
        "a = 1\n",
        "while a <= 5:\n",
        "  print(a)\n",
        "  a += 1    # loop counter"
      ],
      "metadata": {
        "colab": {
          "base_uri": "https://localhost:8080/"
        },
        "id": "xLAYXIYaILeV",
        "outputId": "31faf44f-e704-4418-ca5b-4eed3a1339d5"
      },
      "execution_count": null,
      "outputs": [
        {
          "output_type": "stream",
          "name": "stdout",
          "text": [
            "1\n",
            "2\n",
            "3\n",
            "4\n",
            "5\n"
          ]
        }
      ]
    },
    {
      "cell_type": "code",
      "source": [
        "sum = 0\n",
        "i = 1\n",
        "\n",
        "while i <= 100:\n",
        "  sum = sum + i\n",
        "  i = i + 1\n",
        "\n",
        "\n",
        "print(sum)"
      ],
      "metadata": {
        "colab": {
          "base_uri": "https://localhost:8080/"
        },
        "id": "3aeN18b3zzYR",
        "outputId": "9f35720e-4760-48fe-ecab-ab0884c77db1"
      },
      "execution_count": null,
      "outputs": [
        {
          "output_type": "stream",
          "name": "stdout",
          "text": [
            "5050\n"
          ]
        }
      ]
    },
    {
      "cell_type": "markdown",
      "source": [
        "-Break: a way to break the loop."
      ],
      "metadata": {
        "id": "Yqw-6k0eiUTf"
      }
    },
    {
      "cell_type": "code",
      "source": [
        "sum = 0\n",
        "i = 1\n",
        "\n",
        "while i <= 100:\n",
        "  if i == 99:\n",
        "    break\n",
        "  sum = sum + i\n",
        "  i = i + 1\n",
        "  \n",
        "\n",
        "print(sum)\n",
        "\n",
        "# 4851 = 5050 - 100 - 99"
      ],
      "metadata": {
        "colab": {
          "base_uri": "https://localhost:8080/"
        },
        "id": "OxSjV16gFS0N",
        "outputId": "6c1b317a-8dd4-4f67-a15d-f0854e1ce723"
      },
      "execution_count": null,
      "outputs": [
        {
          "output_type": "stream",
          "name": "stdout",
          "text": [
            "4851\n"
          ]
        }
      ]
    },
    {
      "cell_type": "markdown",
      "source": [
        "-Infinite loop"
      ],
      "metadata": {
        "id": "ptTUYvJV1xFG"
      }
    },
    {
      "cell_type": "code",
      "source": [
        "sum = 0\n",
        "i = 1\n",
        "\n",
        "# break out of the while loop\n",
        "while i > 0:     # infinite loop\n",
        "  if i == 100:   # stopper\n",
        "    break\n",
        "  sum = sum + i\n",
        "  i = i + 1\n",
        "  \n",
        "\n",
        "print(sum)\n",
        "\n",
        "# 4950 = 5050 - 100"
      ],
      "metadata": {
        "colab": {
          "base_uri": "https://localhost:8080/"
        },
        "id": "ST0Lx-aEIgNH",
        "outputId": "11afafaa-6ca2-46ed-955f-22578bd11747"
      },
      "execution_count": null,
      "outputs": [
        {
          "output_type": "stream",
          "name": "stdout",
          "text": [
            "4950\n"
          ]
        }
      ]
    },
    {
      "cell_type": "markdown",
      "source": [
        "### 5.2 Nested loop\n",
        "\n",
        "Like if-else, loops can also be nested."
      ],
      "metadata": {
        "id": "XeoeaPj8f9Ke"
      }
    },
    {
      "cell_type": "code",
      "source": [
        "a = 1\n",
        "b = 1\n",
        "while a <= 3:\n",
        "  while b <= 3:\n",
        "    print(a * b)\n",
        "    a += 1\n",
        "    b += 1"
      ],
      "metadata": {
        "colab": {
          "base_uri": "https://localhost:8080/"
        },
        "id": "QIEGd1qbCYx2",
        "outputId": "1679b5fb-e639-4a22-a71f-1ac9ada88079"
      },
      "execution_count": null,
      "outputs": [
        {
          "output_type": "stream",
          "name": "stdout",
          "text": [
            "1\n",
            "4\n",
            "9\n"
          ]
        }
      ]
    },
    {
      "cell_type": "code",
      "source": [
        "a = 1\n",
        "while a <= 3:\n",
        "  b = 1\n",
        "  while b <= 3:\n",
        "    print(a * b)\n",
        "    b += 1\n",
        "  print(\"-----------\")\n",
        "  a += 1"
      ],
      "metadata": {
        "colab": {
          "base_uri": "https://localhost:8080/"
        },
        "id": "ywHLiVHrCrAW",
        "outputId": "05b8261c-ef01-4b94-ddad-0b3d8cd705b3"
      },
      "execution_count": null,
      "outputs": [
        {
          "output_type": "stream",
          "name": "stdout",
          "text": [
            "1\n",
            "2\n",
            "3\n",
            "-----------\n",
            "2\n",
            "4\n",
            "6\n",
            "-----------\n",
            "3\n",
            "6\n",
            "9\n",
            "-----------\n"
          ]
        }
      ]
    },
    {
      "cell_type": "markdown",
      "source": [
        "### 5.3 For\n",
        "For loop is another way to repeatedly execute.\n",
        "\n",
        "-**for** variable **in** list:\n",
        "\n",
        "\n",
        "> statement\n",
        "\n",
        "\n",
        "\n",
        "\n",
        "-**range**(start, stop, step)\n",
        "\n",
        "從start到stop一系列的等差級數"
      ],
      "metadata": {
        "id": "Ro83oZ6nKvJW"
      }
    },
    {
      "cell_type": "code",
      "source": [
        "for i in 6, 3, 1:\n",
        "  print(i)"
      ],
      "metadata": {
        "colab": {
          "base_uri": "https://localhost:8080/"
        },
        "id": "KLQN5Y5jG0ec",
        "outputId": "c4937038-01a4-406a-d0e6-9a704bc91777"
      },
      "execution_count": null,
      "outputs": [
        {
          "output_type": "stream",
          "name": "stdout",
          "text": [
            "6\n",
            "3\n",
            "1\n"
          ]
        }
      ]
    },
    {
      "cell_type": "code",
      "source": [
        "for i in \"hello\":\n",
        "  print(i)"
      ],
      "metadata": {
        "colab": {
          "base_uri": "https://localhost:8080/"
        },
        "id": "vqNnLhXjJDFo",
        "outputId": "4ff7d799-f547-4173-9e0b-e908d3d8c010"
      },
      "execution_count": null,
      "outputs": [
        {
          "output_type": "stream",
          "name": "stdout",
          "text": [
            "h\n",
            "e\n",
            "l\n",
            "l\n",
            "o\n"
          ]
        }
      ]
    },
    {
      "cell_type": "code",
      "source": [
        "for i in range(5):\n",
        "  print(i)\n",
        "print(\"end1\")\n",
        "\n",
        "for i in range(0, 5):\n",
        "  print(i)\n",
        "print(\"end2\")\n",
        "\n",
        "for i in range(0, 5, 1):\n",
        "  print(i)\n",
        "print(\"end3\")\n",
        "for i in range(0, 5, 2):\n",
        "  print(i)\n"
      ],
      "metadata": {
        "id": "llu4MB4KLL8K",
        "colab": {
          "base_uri": "https://localhost:8080/"
        },
        "outputId": "8e90582d-4de5-4a77-9d62-7cb601ce02ce"
      },
      "execution_count": null,
      "outputs": [
        {
          "output_type": "stream",
          "name": "stdout",
          "text": [
            "0\n",
            "1\n",
            "2\n",
            "3\n",
            "4\n",
            "end1\n",
            "0\n",
            "1\n",
            "2\n",
            "3\n",
            "4\n",
            "end2\n",
            "0\n",
            "1\n",
            "2\n",
            "3\n",
            "4\n",
            "end3\n",
            "0\n",
            "2\n",
            "4\n"
          ]
        }
      ]
    },
    {
      "cell_type": "code",
      "source": [
        "sum = 0\n",
        "for i in range(1, 101):\n",
        "  sum = sum + i\n",
        "print(sum)\n"
      ],
      "metadata": {
        "colab": {
          "base_uri": "https://localhost:8080/"
        },
        "id": "HU5WsJEHMYZ3",
        "outputId": "626fbd4c-b722-4c17-bc22-5da28cd03210"
      },
      "execution_count": null,
      "outputs": [
        {
          "output_type": "stream",
          "name": "stdout",
          "text": [
            "5050\n"
          ]
        }
      ]
    },
    {
      "cell_type": "code",
      "source": [
        "for x in range(9):\n",
        "  x += 1\n",
        "  for y in range(9):\n",
        "    y += 1\n",
        "    print(\"(\" + str(x) + \", \" + str(y) + \")\", end = \" \")\n",
        "  print() # 換行\n"
      ],
      "metadata": {
        "colab": {
          "base_uri": "https://localhost:8080/"
        },
        "id": "24FeC0ALOEua",
        "outputId": "0d2d12ee-19f1-4dec-c31b-ce535e05b002"
      },
      "execution_count": null,
      "outputs": [
        {
          "output_type": "stream",
          "name": "stdout",
          "text": [
            "(1, 1) (1, 2) (1, 3) (1, 4) (1, 5) (1, 6) (1, 7) (1, 8) (1, 9) \n",
            "(2, 1) (2, 2) (2, 3) (2, 4) (2, 5) (2, 6) (2, 7) (2, 8) (2, 9) \n",
            "(3, 1) (3, 2) (3, 3) (3, 4) (3, 5) (3, 6) (3, 7) (3, 8) (3, 9) \n",
            "(4, 1) (4, 2) (4, 3) (4, 4) (4, 5) (4, 6) (4, 7) (4, 8) (4, 9) \n",
            "(5, 1) (5, 2) (5, 3) (5, 4) (5, 5) (5, 6) (5, 7) (5, 8) (5, 9) \n",
            "(6, 1) (6, 2) (6, 3) (6, 4) (6, 5) (6, 6) (6, 7) (6, 8) (6, 9) \n",
            "(7, 1) (7, 2) (7, 3) (7, 4) (7, 5) (7, 6) (7, 7) (7, 8) (7, 9) \n",
            "(8, 1) (8, 2) (8, 3) (8, 4) (8, 5) (8, 6) (8, 7) (8, 8) (8, 9) \n",
            "(9, 1) (9, 2) (9, 3) (9, 4) (9, 5) (9, 6) (9, 7) (9, 8) (9, 9) \n"
          ]
        }
      ]
    },
    {
      "cell_type": "markdown",
      "source": [
        "**-for vs while**\n",
        "\n",
        "**for**: Use it when you do know how many loops you will need.\n",
        "\n",
        "**while**: Use it when you don’t know how many loops you will need.\n"
      ],
      "metadata": {
        "id": "RAOD0sPcjKIZ"
      }
    },
    {
      "cell_type": "markdown",
      "source": [
        "**Example 1**\n",
        "\n",
        "The price of this product is p\n",
        "\n",
        "The demand of this product is q = 100 - 2p\n",
        "\n",
        "The cost of this product is 20\n",
        "\n",
        "Please find the optimal price to earn the largest"
      ],
      "metadata": {
        "id": "fbNxkXWNbZxY"
      }
    },
    {
      "cell_type": "code",
      "source": [
        "max_profit = 0\n",
        "optimal_price = 0\n",
        "\n",
        "for p in range(21, 50):  # price shold higher than cost and demand should not equal to 0\n",
        "  profit = (100 - 2 * p) * (p - 20)\n",
        "# print(p, profit)\n",
        "  if profit > max_profit:\n",
        "    max_profit = profit\n",
        "    optimal_price = p\n",
        "\n",
        "print(max_profit)\n",
        "print(optimal_price)"
      ],
      "metadata": {
        "colab": {
          "base_uri": "https://localhost:8080/"
        },
        "id": "xzRDhbv-cDJg",
        "outputId": "17079996-4c44-4699-86ef-3aaaaf8fe339"
      },
      "execution_count": null,
      "outputs": [
        {
          "output_type": "stream",
          "name": "stdout",
          "text": [
            "450\n",
            "35\n"
          ]
        }
      ]
    },
    {
      "cell_type": "markdown",
      "source": [
        "**Practice 1**\n",
        "\n",
        "Please let the user enter a number and add all odd numbers from 1 to that number."
      ],
      "metadata": {
        "id": "prbZHu5LfAAg"
      }
    },
    {
      "cell_type": "code",
      "source": [
        "number = int(input())\n",
        "sum = 0\n",
        "\n",
        "for i in range(1, number + 1):\n",
        "  if i % 2 == 1:\n",
        "    sum += i\n",
        "\n",
        "print(sum)"
      ],
      "metadata": {
        "colab": {
          "base_uri": "https://localhost:8080/"
        },
        "id": "rFGFpy2bf2uf",
        "outputId": "0981f9c4-c7f4-4f51-c5a1-64fa9649ed4c"
      },
      "execution_count": null,
      "outputs": [
        {
          "output_type": "stream",
          "name": "stdout",
          "text": [
            "5\n",
            "9\n"
          ]
        }
      ]
    },
    {
      "cell_type": "markdown",
      "source": [
        "## 6.List\n",
        "\n",
        "List is a container that holds items.\n",
        "\n",
        "An item could be an integer, a float, or a string.\n",
        "\n",
        "ex: [1, 2, 3, 7, 18]\n",
        "\n",
        "ex: [\"apple\", \"orange\", \"grava\"]\n"
      ],
      "metadata": {
        "id": "S-LgpkbQgx7r"
      }
    },
    {
      "cell_type": "code",
      "source": [
        "alist = []    # declare an empty list\n",
        "blist = [1, 2, 3]\n",
        "clist = ['hello', 2, 3.7]\n",
        "\n",
        "# The first item is indexed at 0\n",
        "print(clist[0]) \n",
        "print(clist[1])\n",
        "print(clist[2])\n",
        "print(clist)"
      ],
      "metadata": {
        "colab": {
          "base_uri": "https://localhost:8080/"
        },
        "id": "RY59w_kkhYDD",
        "outputId": "74809e23-7512-42d3-e340-d3743d1fd9be"
      },
      "execution_count": null,
      "outputs": [
        {
          "output_type": "stream",
          "name": "stdout",
          "text": [
            "hello\n",
            "2\n",
            "3.7\n",
            "['hello', 2, 3.7]\n"
          ]
        }
      ]
    },
    {
      "cell_type": "code",
      "source": [
        "digits = [0, 1, 5]\n",
        "\n",
        "for i in digits:\n",
        "  print(i)"
      ],
      "metadata": {
        "colab": {
          "base_uri": "https://localhost:8080/"
        },
        "id": "WEjClpj5laW2",
        "outputId": "67eac242-7845-4c20-a997-90083448478c"
      },
      "execution_count": null,
      "outputs": [
        {
          "output_type": "stream",
          "name": "stdout",
          "text": [
            "0\n",
            "1\n",
            "5\n"
          ]
        }
      ]
    },
    {
      "cell_type": "markdown",
      "source": [
        "-List operations"
      ],
      "metadata": {
        "id": "tpuQczEAphbL"
      }
    },
    {
      "cell_type": "code",
      "source": [
        "alist = [0, 3, 5, 2, 2, 6]\n",
        "alist.append(17)\n",
        "print(alist) # [0, 3, 5, 2, 2, 6, 17]\n",
        "\n",
        "alist.sort()\n",
        "print(alist) # [0, 2, 2, 3, 5, 6, 17]\n",
        "\n",
        "alist.reverse()\n",
        "print(alist) # [17, 6, 5, 3, 2, 2, 0]\n",
        "\n",
        "print(alist.index(5)) #2\n",
        "\n",
        "alist.insert(5, 1000)\n",
        "print(alist) # [17, 6, 5, 3, 2, 1000, 2, 0]\n",
        "\n",
        "print(alist.count(2)) # 2\n",
        "\n",
        "alist.remove(1000)\n",
        "print(alist) # [17, 6, 5, 3, 2, 2, 0]\n",
        "\n",
        "print(alist.pop(6)) # 0\n",
        "\n",
        "print(alist) # [17, 6, 5, 3, 2, 2]"
      ],
      "metadata": {
        "colab": {
          "base_uri": "https://localhost:8080/"
        },
        "id": "f6NI26joiEOm",
        "outputId": "4aa692ad-a0fd-46a5-c8b9-491890078781"
      },
      "execution_count": null,
      "outputs": [
        {
          "output_type": "stream",
          "name": "stdout",
          "text": [
            "[0, 3, 5, 2, 2, 6, 17]\n",
            "[0, 2, 2, 3, 5, 6, 17]\n",
            "[17, 6, 5, 3, 2, 2, 0]\n",
            "2\n",
            "[17, 6, 5, 3, 2, 1000, 2, 0]\n",
            "2\n",
            "[17, 6, 5, 3, 2, 2, 0]\n",
            "0\n",
            "[17, 6, 5, 3, 2, 2]\n"
          ]
        }
      ]
    },
    {
      "cell_type": "markdown",
      "source": [
        "**Example 1**\n",
        "\n",
        "Using list to calculate the mean of given numbers 10, 65, 25, 8, 17."
      ],
      "metadata": {
        "id": "V-OUhuRTnrJs"
      }
    },
    {
      "cell_type": "code",
      "source": [
        "alist = [10, 65, 25, 8, 17]\n",
        "sum = 0\n",
        "\n",
        "for i in alist:  # 加總\n",
        "  sum += i\n",
        "\n",
        "number = len(alist) # 計算共有幾個數字\n",
        "\n",
        "mean = sum / number \n",
        "\n",
        "print(mean)"
      ],
      "metadata": {
        "colab": {
          "base_uri": "https://localhost:8080/"
        },
        "id": "WXiPmY35n8PF",
        "outputId": "6e6b5186-65eb-4afb-df02-10c61edcbac4"
      },
      "execution_count": null,
      "outputs": [
        {
          "output_type": "stream",
          "name": "stdout",
          "text": [
            "25.0\n"
          ]
        }
      ]
    },
    {
      "cell_type": "markdown",
      "source": [
        "**Example 2**\n",
        "\n",
        "Using list to calculate the median of given numbers 10, 65, 25, 8, 17."
      ],
      "metadata": {
        "id": "61K3YuDAo5jz"
      }
    },
    {
      "cell_type": "code",
      "source": [
        "alist = [10, 65, 25, 8, 17]\n",
        "alist.sort() # 由小到大排序 [8,10,17,25,65]\n",
        "print(alist)\n",
        "\n",
        "number = len(alist) # 計算共有幾個數字\n",
        "\n",
        "if number % 2 == 1:  # 當個數有奇數個\n",
        "  median_pos = int(number / 2)\n",
        "  median = alist[median_pos]\n",
        "\n",
        "else:           # 當個數有偶數個\n",
        "  median_pos = int(number / 2)\n",
        "  # print(median_pos)\n",
        "  median = (alist[median_pos] + alist[median_pos - 1]) / 2\n",
        "\n",
        "print(median)"
      ],
      "metadata": {
        "colab": {
          "base_uri": "https://localhost:8080/"
        },
        "id": "8-R4B_Xgo-TW",
        "outputId": "df494635-556e-4c9c-d7dc-f9bd77364cdf"
      },
      "execution_count": null,
      "outputs": [
        {
          "output_type": "stream",
          "name": "stdout",
          "text": [
            "[8, 10, 17, 25, 65]\n",
            "17\n"
          ]
        }
      ]
    },
    {
      "cell_type": "markdown",
      "source": [
        "## 7.Function\n",
        "\n",
        "A function is a block of code which only runs when it is called.\n",
        "\n",
        "The advantages of function include the following three points: \n",
        "\n",
        "1. Avoiding the repetition of writing the same code. \n",
        "\n",
        "2. Improving the readability and ease of modification of the code.\n",
        "\n",
        "3. Breaking down complex problems into simpler ones. \n",
        "\n",
        "Whenever there is a need for repeated execution or complex tasks of the same type, it is recommended to write them as functions."
      ],
      "metadata": {
        "id": "7PzUqP4Y2r3d"
      }
    },
    {
      "cell_type": "code",
      "source": [
        "def function_name(parameter1, parameter2):\n",
        "  # function statement\n",
        "  return value\n"
      ],
      "metadata": {
        "id": "nWfSdXnk5ix1"
      },
      "execution_count": null,
      "outputs": []
    },
    {
      "cell_type": "markdown",
      "source": [
        "-Parameter vs. Argument\n",
        "\n",
        "The difference between parameters and arguments is that parameters are variables defined when a function is declared, while arguments are the values passed into a function when it is called."
      ],
      "metadata": {
        "id": "zlxS6iMk69PF"
      }
    },
    {
      "cell_type": "code",
      "source": [
        "def myprint(s):\n",
        "  print(s)\n",
        "\n",
        "myprint(\"Hello World\")"
      ],
      "metadata": {
        "colab": {
          "base_uri": "https://localhost:8080/"
        },
        "id": "77JtTQQudU6X",
        "outputId": "b249f926-d258-4717-f3b8-5f55f2a6d45c"
      },
      "execution_count": null,
      "outputs": [
        {
          "output_type": "stream",
          "name": "stdout",
          "text": [
            "Hello World\n"
          ]
        }
      ]
    },
    {
      "cell_type": "code",
      "source": [
        "def addition(num1, num2):     # num1 and num2 are parameters \n",
        "  outcome = num1 + num2\n",
        "  return outcome\n",
        "\n",
        "print(addition(2, 3))  # 2 and 3 are arguments\n",
        "print(addition(1, 10))"
      ],
      "metadata": {
        "colab": {
          "base_uri": "https://localhost:8080/"
        },
        "id": "kbTU6SeF54rR",
        "outputId": "9faf973d-97c0-4928-c9b7-e146bb0300b6"
      },
      "execution_count": null,
      "outputs": [
        {
          "output_type": "stream",
          "name": "stdout",
          "text": [
            "5\n",
            "11\n"
          ]
        }
      ]
    },
    {
      "cell_type": "code",
      "source": [
        "def max(a, b):\n",
        "  if a > b:\n",
        "    return a \n",
        "  else: \n",
        "    return b\n",
        "\n",
        "print(max(3, 5))"
      ],
      "metadata": {
        "colab": {
          "base_uri": "https://localhost:8080/"
        },
        "id": "35FM3vfxd7IL",
        "outputId": "8461b0bc-3cfb-4f98-b8b4-e5d9eb479222"
      },
      "execution_count": null,
      "outputs": [
        {
          "output_type": "stream",
          "name": "stdout",
          "text": [
            "5\n"
          ]
        }
      ]
    },
    {
      "cell_type": "code",
      "source": [
        "def BMI(weight, height):\n",
        "  bmi = weight / ((height / 100) ** 2)\n",
        "  return bmi\n",
        "\n",
        "num1 = float(input())\n",
        "num2 = float(input())\n",
        "\n",
        "print(BMI(num1, num2))"
      ],
      "metadata": {
        "colab": {
          "base_uri": "https://localhost:8080/"
        },
        "id": "KagZ3aaQ6_Hk",
        "outputId": "86005afe-5de0-4340-f84e-ca53ce660d9e"
      },
      "execution_count": null,
      "outputs": [
        {
          "output_type": "stream",
          "name": "stdout",
          "text": [
            "65\n",
            "170\n",
            "22.49134948096886\n"
          ]
        }
      ]
    },
    {
      "cell_type": "markdown",
      "source": [
        "**Exercise 1**\n",
        "\n",
        "Please design a simple calculator that allows users to choose a mode at the beginning, and then input three integers Ｘ, Ｙ, Z. \n",
        "\n",
        "If the user inputs 1, the program should calculate Ｘ + Ｙ + Z; \n",
        "\n",
        "If the user inputs 2, the program should calculate Ｘ - Ｙ - Z; \n",
        "\n",
        "If the user inputs 3, the program should calculate Ｘ * Ｙ * Z; \n",
        "\n",
        "If the user inputs 4, the program should calculate Ｘ / Ｙ / Z. \n",
        "\n",
        "In this program, users must be able to input the calculation mode and the numbers Ｘ and Ｙ, and print the output."
      ],
      "metadata": {
        "id": "_HceZIpD8a5y"
      }
    },
    {
      "cell_type": "code",
      "source": [
        "def calculator(mode, ｘ, ｙ, z):\n",
        "  if mode == '1':\n",
        "    return x + y + z\n",
        "  elif mode == '2':\n",
        "    return x - y - z\n",
        "  elif mode == '3':\n",
        "    return x * y * z\n",
        "  elif mode == '4':\n",
        "    return x / y / z\n",
        "\n",
        "mode = input()\n",
        "num_x = int(input())\n",
        "num_y = int(input())\n",
        "num_z = int(input())\n",
        "\n",
        "\n",
        "print(calculator(mode, num_x, num_y, num_z))\n"
      ],
      "metadata": {
        "colab": {
          "base_uri": "https://localhost:8080/"
        },
        "id": "kwpiU9ln-04q",
        "outputId": "44af3cfb-1912-40cc-d5e0-be0acf45e98f"
      },
      "execution_count": null,
      "outputs": [
        {
          "output_type": "stream",
          "name": "stdout",
          "text": [
            "4\n",
            "10\n",
            "2\n",
            "3\n",
            "6.666666666666667\n"
          ]
        }
      ]
    },
    {
      "cell_type": "markdown",
      "source": [
        "**Exercise 2**\n",
        "\n",
        "Please let users enter two points on the X and Y axis, and output the distance between them.\n",
        "\n",
        "Ex: If there are two points A(3,0)、B(0,4), their distance will be 5."
      ],
      "metadata": {
        "id": "rqJmtKAvER-N"
      }
    },
    {
      "cell_type": "code",
      "source": [
        "def distance(x1, y1, x2, y2):\n",
        "  dist = ((x1 - x2) ** 2 + (y1 - y2) ** 2) ** (1/2)\n",
        "  return dist\n",
        "\n",
        "x1 = float(input())\n",
        "y1 = float(input())\n",
        "x2 = float(input())\n",
        "y2 = float(input())\n",
        "\n",
        "print(distance(x1, y1, x2, y2))"
      ],
      "metadata": {
        "colab": {
          "base_uri": "https://localhost:8080/"
        },
        "id": "mFKhg3D0Dcal",
        "outputId": "7c5f6eb5-8ca8-4a1c-e178-5869bb49daef"
      },
      "execution_count": null,
      "outputs": [
        {
          "output_type": "stream",
          "name": "stdout",
          "text": [
            "3\n",
            "0\n",
            "0\n",
            "4\n",
            "5.0\n"
          ]
        }
      ]
    },
    {
      "cell_type": "markdown",
      "source": [
        "**Practice 1**\n",
        "\n",
        "Please let users enter a number and return its absolute value.\n",
        "\n",
        "Ex: If users enter 2.2, you should return 2.2. If users enter -2.708, you should return 2.708."
      ],
      "metadata": {
        "id": "QswnvtPL6aZG"
      }
    },
    {
      "cell_type": "code",
      "source": [
        "def abs(num):\n",
        "  if num > 0:\n",
        "    return num\n",
        "  else:\n",
        "    return -num\n",
        "\n",
        "num1 = float(input())\n",
        "print(abs(num1))"
      ],
      "metadata": {
        "colab": {
          "base_uri": "https://localhost:8080/"
        },
        "id": "x36gi_TpGbPL",
        "outputId": "85148812-8524-4ed3-e449-cd38e683bead"
      },
      "execution_count": null,
      "outputs": [
        {
          "output_type": "stream",
          "name": "stdout",
          "text": [
            "2.5\n",
            "2.5\n"
          ]
        }
      ]
    },
    {
      "cell_type": "markdown",
      "source": [
        "## 8.Import\n",
        "\n",
        "A module is a file with python code and can contain executable statements as well as function definitions. \n",
        "\n",
        "In order to utilize a module, it must first be imported using the **\"import\"** keyword. Once imported, the functions and variables contained within the module can be accessed and used.\n"
      ],
      "metadata": {
        "id": "Qbrwt84KUvpe"
      }
    },
    {
      "cell_type": "markdown",
      "source": [
        "-math"
      ],
      "metadata": {
        "id": "VretVm55p5n2"
      }
    },
    {
      "cell_type": "code",
      "source": [
        "import math\n",
        "\n",
        "print(math.pi)\n",
        "print(math.fabs(-10))  # absolute value\n",
        "print(math.gcd(24,12)) # highest common factor\n",
        "print(math.sqrt(16)) # square\n",
        "print(math.log(10)) # log\n",
        "print(math.floor(5.2157)) # round down"
      ],
      "metadata": {
        "colab": {
          "base_uri": "https://localhost:8080/"
        },
        "id": "YkX8os7yV4GR",
        "outputId": "9519cc40-6277-4f72-b035-887bf4141560"
      },
      "execution_count": null,
      "outputs": [
        {
          "output_type": "stream",
          "name": "stdout",
          "text": [
            "3.141592653589793\n",
            "10.0\n",
            "12\n",
            "4.0\n",
            "2.302585092994046\n",
            "5\n"
          ]
        }
      ]
    },
    {
      "cell_type": "markdown",
      "source": [
        "-datetime"
      ],
      "metadata": {
        "id": "hwMo1SLYp7tk"
      }
    },
    {
      "cell_type": "code",
      "source": [
        "import datetime\n",
        "print(datetime.datetime.now()) \n",
        "print(datetime.date.today())"
      ],
      "metadata": {
        "colab": {
          "base_uri": "https://localhost:8080/"
        },
        "id": "GgVEihkaW603",
        "outputId": "385fe541-67c5-4bd9-bb69-4e98fb58ad15"
      },
      "execution_count": null,
      "outputs": [
        {
          "output_type": "stream",
          "name": "stdout",
          "text": [
            "2023-02-13 12:07:07.938851\n",
            "2023-02-13\n"
          ]
        }
      ]
    },
    {
      "cell_type": "markdown",
      "source": [
        "-statistics"
      ],
      "metadata": {
        "id": "yc5jlQcfqAF9"
      }
    },
    {
      "cell_type": "code",
      "source": [
        "import statistics\n",
        "\n",
        "alist = [10, 65, 25, 8, 17]\n",
        "mean = statistics.mean(alist)\n",
        "median = statistics.median(alist)\n",
        "print(mean)\n",
        "print(median)\n",
        "\n",
        "stdev = statistics.stdev(alist)    # standard deviation\n",
        "variance = statistics.variance(alist) # variance\n",
        "print(stdev)\n",
        "print(variance)"
      ],
      "metadata": {
        "colab": {
          "base_uri": "https://localhost:8080/"
        },
        "id": "M_aRTIr2oc9Y",
        "outputId": "780446b2-2071-4efe-bebf-cbce6b9c3166"
      },
      "execution_count": null,
      "outputs": [
        {
          "output_type": "stream",
          "name": "stdout",
          "text": [
            "25\n",
            "17\n",
            "23.33452377915607\n",
            "544.5\n"
          ]
        }
      ]
    },
    {
      "cell_type": "markdown",
      "source": [
        "## 9.Numpy\n",
        "\n",
        "NumPy is a Python package that provides a simple but powerful data structure. It is more efficient than list."
      ],
      "metadata": {
        "id": "MzFuCP0MrT9V"
      }
    },
    {
      "cell_type": "markdown",
      "source": [
        "### 9.1 Create an array and matrix"
      ],
      "metadata": {
        "id": "3d399UNksKEu"
      }
    },
    {
      "cell_type": "code",
      "source": [
        "import numpy as np"
      ],
      "metadata": {
        "id": "MV1ZeX28ghs2"
      },
      "execution_count": null,
      "outputs": []
    },
    {
      "cell_type": "code",
      "source": [
        "a = np.array([1, 2, 3]) \n",
        "print(a)"
      ],
      "metadata": {
        "colab": {
          "base_uri": "https://localhost:8080/"
        },
        "id": "NL7M6rC_ryaf",
        "outputId": "972bd69b-f7d0-4ec4-fdc7-553d8a77886c"
      },
      "execution_count": null,
      "outputs": [
        {
          "output_type": "stream",
          "name": "stdout",
          "text": [
            "[1 2 3]\n"
          ]
        }
      ]
    },
    {
      "cell_type": "code",
      "source": [
        "b = np.array([[1, 2], [3, 4]]) \n",
        "print(b) # 2x2 matrix"
      ],
      "metadata": {
        "colab": {
          "base_uri": "https://localhost:8080/"
        },
        "id": "FEpdpj3as40q",
        "outputId": "88c0da4f-362a-4c3c-e19c-54334110d795"
      },
      "execution_count": null,
      "outputs": [
        {
          "output_type": "stream",
          "name": "stdout",
          "text": [
            "[[1 2]\n",
            " [3 4]]\n"
          ]
        }
      ]
    },
    {
      "cell_type": "code",
      "source": [
        "c = np.array([[1,2,3],[4,5,6]]) \n",
        "print(c)\n",
        "print(c.shape) # 2x3 matrix"
      ],
      "metadata": {
        "colab": {
          "base_uri": "https://localhost:8080/"
        },
        "id": "d_ibr9S7tnGa",
        "outputId": "013bd25e-767d-48f2-dff6-3125d1073c7e"
      },
      "execution_count": null,
      "outputs": [
        {
          "output_type": "stream",
          "name": "stdout",
          "text": [
            "[[1 2 3]\n",
            " [4 5 6]]\n",
            "(2, 3)\n"
          ]
        }
      ]
    },
    {
      "cell_type": "code",
      "source": [
        "a = np.array([[1,2,3],[4,5,6]]) \n",
        "b = a.reshape(3,2)       # resize an array\n",
        "print(a)\n",
        "print(\"\\n\") # newline\n",
        "print(b)"
      ],
      "metadata": {
        "colab": {
          "base_uri": "https://localhost:8080/"
        },
        "id": "yXC0jia4uABh",
        "outputId": "c74e61d5-b63f-4868-b170-ff7fa1d7e4ec"
      },
      "execution_count": null,
      "outputs": [
        {
          "output_type": "stream",
          "name": "stdout",
          "text": [
            "[[1 2 3]\n",
            " [4 5 6]]\n",
            "\n",
            "\n",
            "[[1 2]\n",
            " [3 4]\n",
            " [5 6]]\n"
          ]
        }
      ]
    },
    {
      "cell_type": "code",
      "source": [
        "x = np.zeros(5)   # Return a new array, filled with zeros\n",
        "print(x)\n",
        "print(\"\\n\")\n",
        "\n",
        "x = np.zeros((5), dtype = int) # Return a new array, filled with zeros\n",
        "print(x)\n",
        "print(\"\\n\")\n",
        "\n",
        "x = np.ones(5)   # Return a new array, filled with ones\n",
        "print(x)\n",
        "print(\"\\n\")\n",
        "\n",
        "x = np.ones((5), dtype = int) # Return a new array, filled with ones\n",
        "print(x)\n",
        "print(\"\\n\")\n"
      ],
      "metadata": {
        "colab": {
          "base_uri": "https://localhost:8080/"
        },
        "id": "rCyy_r4PucFN",
        "outputId": "d2dcd764-8431-4725-84ca-0adb7e7ec6e7"
      },
      "execution_count": null,
      "outputs": [
        {
          "output_type": "stream",
          "name": "stdout",
          "text": [
            "[0. 0. 0. 0. 0.]\n",
            "\n",
            "\n",
            "[0 0 0 0 0]\n",
            "\n",
            "\n",
            "[1. 1. 1. 1. 1.]\n",
            "\n",
            "\n",
            "[1 1 1 1 1]\n",
            "\n",
            "\n"
          ]
        }
      ]
    },
    {
      "cell_type": "markdown",
      "source": [
        "### 9.2 Operation of Numpy"
      ],
      "metadata": {
        "id": "JdBI5o8VsT44"
      }
    },
    {
      "cell_type": "code",
      "source": [
        "a = np.array([1.9, 1.4, 3.7, 0.6, 10]) \n",
        "print(np.floor(a)) # round down\n",
        "print(np.ceil(a)) # round up"
      ],
      "metadata": {
        "colab": {
          "base_uri": "https://localhost:8080/"
        },
        "id": "MA7nOzCJxyQC",
        "outputId": "fd0df042-4fc3-49b6-95a1-ca6bdd45b5c4"
      },
      "execution_count": null,
      "outputs": [
        {
          "output_type": "stream",
          "name": "stdout",
          "text": [
            "[ 1.  1.  3.  0. 10.]\n",
            "[ 2.  2.  4.  1. 10.]\n"
          ]
        }
      ]
    },
    {
      "cell_type": "code",
      "source": [
        "a = np.array([[1,2,3],[4,5,6],[7,8,9]])\n",
        "print(a)\n",
        "print(\"\\n\")\n",
        "\n",
        "b = np.array([10,10,10]) \n",
        "print(b)\n",
        "print(\"\\n\")\n",
        "\n",
        "print(np.add(a,b))\n",
        "print(\"\\n\")\n",
        "\n",
        "print(np.subtract(a,b))\n",
        "print(\"\\n\")\n",
        "\n",
        "print(np.multiply(a,b))\n",
        "print(\"\\n\")\n",
        "\n",
        "print(np.divide(a,b))"
      ],
      "metadata": {
        "colab": {
          "base_uri": "https://localhost:8080/"
        },
        "id": "mOX4FxQ4yV41",
        "outputId": "c6275c50-10a5-4f13-9bb8-b2ce0aa5930a"
      },
      "execution_count": null,
      "outputs": [
        {
          "output_type": "stream",
          "name": "stdout",
          "text": [
            "[[1 2 3]\n",
            " [4 5 6]\n",
            " [7 8 9]]\n",
            "\n",
            "\n",
            "[10 10 10]\n",
            "\n",
            "\n",
            "[[11 12 13]\n",
            " [14 15 16]\n",
            " [17 18 19]]\n",
            "\n",
            "\n",
            "[[-9 -8 -7]\n",
            " [-6 -5 -4]\n",
            " [-3 -2 -1]]\n",
            "\n",
            "\n",
            "[[10 20 30]\n",
            " [40 50 60]\n",
            " [70 80 90]]\n",
            "\n",
            "\n",
            "[[0.1 0.2 0.3]\n",
            " [0.4 0.5 0.6]\n",
            " [0.7 0.8 0.9]]\n"
          ]
        }
      ]
    },
    {
      "cell_type": "code",
      "source": [
        "a = np.array([[1,3,5],[7,9,11],[13,15,17]]) \n",
        "print(a)  \n",
        "print(\"\\n\")  \n",
        "\n",
        "print(np.amin(a)) # min\n",
        "print(\"\\n\") \n",
        "\n",
        "print(np.amax(a)) # max\n",
        "print(\"\\n\")\n",
        "\n",
        "print(np.median(a))\n",
        "print(\"\\n\")\n",
        "\n",
        "print(np.mean(a))"
      ],
      "metadata": {
        "colab": {
          "base_uri": "https://localhost:8080/"
        },
        "id": "LLtYQR_vzlKS",
        "outputId": "f99799c6-b560-4d3d-b523-a3299a127488"
      },
      "execution_count": null,
      "outputs": [
        {
          "output_type": "stream",
          "name": "stdout",
          "text": [
            "[[ 1  3  5]\n",
            " [ 7  9 11]\n",
            " [13 15 17]]\n",
            "\n",
            "\n",
            "1\n",
            "\n",
            "\n",
            "17\n",
            "\n",
            "\n",
            "9.0\n",
            "\n",
            "\n",
            "9.0\n"
          ]
        }
      ]
    },
    {
      "cell_type": "code",
      "source": [
        "a = np.array([[1,3,5],[7,9,11],[13,15,17]])\n",
        "\n",
        "print(np.var(a)) # variance\n",
        "\n",
        "print(np.std(a)) # standard deviation"
      ],
      "metadata": {
        "colab": {
          "base_uri": "https://localhost:8080/"
        },
        "id": "BTj7D2581735",
        "outputId": "7ac2379f-a671-427b-bc50-956993b5a2d3"
      },
      "execution_count": null,
      "outputs": [
        {
          "output_type": "stream",
          "name": "stdout",
          "text": [
            "26.666666666666668\n",
            "5.163977794943222\n"
          ]
        }
      ]
    },
    {
      "cell_type": "code",
      "source": [
        "import numpy as np\n",
        "a = np.zeros((3,3))  # Return a new array, filled with zeros.\n",
        "b = np.ones((3,3))  # Return a new array, filled with ones.\n",
        "c = np.random.rand(3,3)  # Return a new array, filled with random numbers.\n",
        "d = np.random.rand(3,3)  # Return a new array, filled with random numbers.\n",
        "\n",
        "print(a)\n",
        "print(\"\\n\")\n",
        "print(b)\n",
        "print(\"\\n\")\n",
        "print(c)\n",
        "print(\"\\n\")\n",
        "print(d)\n",
        "print(\"\\n\")\n",
        "print(np.dot(c, d)) # Dot Product"
      ],
      "metadata": {
        "colab": {
          "base_uri": "https://localhost:8080/"
        },
        "id": "r1pdGcMB3OmZ",
        "outputId": "2d047301-e5d1-466a-e360-06ec7f5e2ba6"
      },
      "execution_count": null,
      "outputs": [
        {
          "output_type": "stream",
          "name": "stdout",
          "text": [
            "[[0. 0. 0.]\n",
            " [0. 0. 0.]\n",
            " [0. 0. 0.]]\n",
            "\n",
            "\n",
            "[[1. 1. 1.]\n",
            " [1. 1. 1.]\n",
            " [1. 1. 1.]]\n",
            "\n",
            "\n",
            "[[0.81255808 0.98428385 0.62369224]\n",
            " [0.94817278 0.40311832 0.0956729 ]\n",
            " [0.43919384 0.06442495 0.48471427]]\n",
            "\n",
            "\n",
            "[[0.10413939 0.83362463 0.73145132]\n",
            " [0.11677449 0.61997378 0.17350658]\n",
            " [0.3785711  0.25040668 0.1180931 ]]\n",
            "\n",
            "\n",
            "[[0.4356704  1.44377531 0.83878015]\n",
            " [0.18203506 1.0643001  0.77478422]\n",
            " [0.23675938 0.52744027 0.38966847]]\n"
          ]
        }
      ]
    },
    {
      "cell_type": "markdown",
      "source": [
        "**Quiz 1**\n",
        "\n",
        "Create a Python program to multiply two integer numbers from the user."
      ],
      "metadata": {
        "id": "2EWA7DyJ_rc8"
      }
    },
    {
      "cell_type": "code",
      "source": [
        "num1 = int(input())\n",
        "num2 = int(input())\n",
        "\n",
        "result = num1 * num2\n",
        "\n",
        "print(result)"
      ],
      "metadata": {
        "colab": {
          "base_uri": "https://localhost:8080/"
        },
        "id": "T0I8YG_V_qe-",
        "outputId": "e0f2d450-80f6-4882-da89-fb400bf05001"
      },
      "execution_count": null,
      "outputs": [
        {
          "output_type": "stream",
          "name": "stdout",
          "text": [
            "10\n",
            "8\n",
            "80\n"
          ]
        }
      ]
    },
    {
      "cell_type": "markdown",
      "source": [
        "**Quiz 2**\n",
        "\n",
        "The computer is $20,000.\n",
        "\n",
        "The cellphone is $15,000.\n",
        "\n",
        "Please let users enter how many computers and cellphones users buy and output the total."
      ],
      "metadata": {
        "id": "uscAYHdt7HaB"
      }
    },
    {
      "cell_type": "code",
      "source": [
        "computer_price = 20000\n",
        "cellphone_price = 15000\n",
        "computer_num = int(input())\n",
        "cellphone_num = int(input())\n",
        "\n",
        "total = computer_price * computer_num  + cellphone_price * cellphone_num\n",
        "\n",
        "print(total)"
      ],
      "metadata": {
        "colab": {
          "base_uri": "https://localhost:8080/"
        },
        "id": "uCTqLrnG7N3e",
        "outputId": "7716a1c9-52b1-45ba-bb8f-b9778a48a0e8"
      },
      "execution_count": null,
      "outputs": [
        {
          "output_type": "stream",
          "name": "stdout",
          "text": [
            "10\n",
            "5\n",
            "275000\n"
          ]
        }
      ]
    },
    {
      "cell_type": "markdown",
      "source": [
        "**Quiz 3**\n",
        "\n",
        "The fare for a taxi ride is calculated based on the distance traveled and the time taken for the ride. \n",
        "\n",
        "The base fare for the taxi is $2.50.\n",
        "\n",
        "The fare increases by $0.50 for every mile traveled when the taxi traveled over 5 miles. \n",
        "\n",
        "\n",
        "Write a program that takes in the distance traveled for the ride as input, and outputs the total fare for the ride.\n"
      ],
      "metadata": {
        "id": "UujYcLXA25b5"
      }
    },
    {
      "cell_type": "code",
      "source": [
        "distance = float(input())\n",
        "\n",
        "base_fare = 2.50\n",
        "mile_fare = 0.50\n",
        "boundary = 5\n",
        "\n",
        "if distance > boundary:\n",
        "  totals = base_fare + mile_fare * (distance - 10)\n",
        "else:\n",
        "  totals = base_fare\n",
        "\n",
        "print(totals)"
      ],
      "metadata": {
        "colab": {
          "base_uri": "https://localhost:8080/"
        },
        "id": "Jm3LCqYw48Hc",
        "outputId": "7e22e371-8c84-4742-f2a2-8013ca09eba1"
      },
      "execution_count": null,
      "outputs": [
        {
          "output_type": "stream",
          "name": "stdout",
          "text": [
            "15\n",
            "5.0\n"
          ]
        }
      ]
    },
    {
      "cell_type": "markdown",
      "source": [
        "****Some of the course materials and exercises in this chapter are modified from \"Programming for Business Computing Fall 2021\".**"
      ],
      "metadata": {
        "id": "UkkPE-FfQS6X"
      }
    }
  ]
}